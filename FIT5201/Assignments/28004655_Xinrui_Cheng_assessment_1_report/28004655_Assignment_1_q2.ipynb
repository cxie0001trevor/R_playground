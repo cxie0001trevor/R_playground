{
 "cells": [
  {
   "cell_type": "markdown",
   "metadata": {},
   "source": [
    "# Question 2 [L-fold Cross Validation, 20 Marks]"
   ]
  },
  {
   "cell_type": "markdown",
   "metadata": {},
   "source": [
    "Implement the L-Fold Cross Validation:\n",
    "- for k = 1 to 20\n",
    "    - divide train data into 10 parts\n",
    "    - for i = 1 to 10\n",
    "             train network using 9 parts\n",
    "             compute accuracy using 1 part\n",
    "             end for\n",
    "    - compute average error of the 10 runs\n",
    "- compute average error of the 20 K"
   ]
  },
  {
   "cell_type": "code",
   "execution_count": 2,
   "metadata": {
    "collapsed": true
   },
   "outputs": [],
   "source": [
    "import pandas as pd\n",
    "import matplotlib.pyplot as plt\n",
    "%matplotlib inline\n",
    "import numpy as np\n",
    "from scipy.spatial import distance\n",
    "import random\n"
   ]
  },
  {
   "cell_type": "markdown",
   "metadata": {},
   "source": [
    "### Load Training and Testing Sets"
   ]
  },
  {
   "cell_type": "code",
   "execution_count": 3,
   "metadata": {
    "collapsed": true
   },
   "outputs": [],
   "source": [
    "trainT1A = pd.read_table('assessments_datasets/Task1A_train.csv', sep=\",\")\n",
    "testT1A = pd.read_table('assessments_datasets/Task1A_test.csv', sep=\",\")"
   ]
  },
  {
   "cell_type": "code",
   "execution_count": 10,
   "metadata": {},
   "outputs": [
    {
     "name": "stderr",
     "output_type": "stream",
     "text": [
      "/Users/chengxinrui/anaconda/envs/ipykernel_py3/lib/python3.6/site-packages/ipykernel_launcher.py:1: DeprecationWarning: \n",
      ".ix is deprecated. Please use\n",
      ".loc for label based indexing or\n",
      ".iloc for positional indexing\n",
      "\n",
      "See the documentation here:\n",
      "http://pandas.pydata.org/pandas-docs/stable/indexing.html#ix-indexer-is-deprecated\n",
      "  \"\"\"Entry point for launching an IPython kernel.\n",
      "/Users/chengxinrui/anaconda/envs/ipykernel_py3/lib/python3.6/site-packages/ipykernel_launcher.py:3: DeprecationWarning: \n",
      ".ix is deprecated. Please use\n",
      ".loc for label based indexing or\n",
      ".iloc for positional indexing\n",
      "\n",
      "See the documentation here:\n",
      "http://pandas.pydata.org/pandas-docs/stable/indexing.html#ix-indexer-is-deprecated\n",
      "  This is separate from the ipykernel package so we can avoid doing imports until\n"
     ]
    }
   ],
   "source": [
    "traindata = trainT1A.ix[:,:-1]\n",
    "trainlabel = trainT1A.ix[:,-1:]\n",
    "testdata = testT1A.ix[:,:-1]"
   ]
  },
  {
   "cell_type": "code",
   "execution_count": 11,
   "metadata": {
    "collapsed": true
   },
   "outputs": [],
   "source": [
    "# define knn function\n",
    "def KNN(train_data, train_label, test_data, K):\n",
    "    \n",
    "    # get data\n",
    "    trainData = train_data.ix[:,:-1]\n",
    "    trainLabel = train_label.ix[:,-1:]\n",
    "    testData = test_data.ix[:,:-1]\n",
    "    \n",
    "    dist = []\n",
    "    neighbors = []\n",
    "    distances = []\n",
    "    dists = []\n",
    "    avgList = []\n",
    "    result = []\n",
    "    result1 = []\n",
    "    y_list = []\n",
    "    y_list1 = []\n",
    "    \n",
    "    # calculus distance\n",
    "    for i in range(len(testData)):\n",
    "        dists = []\n",
    "        for j in range(len(trainData)):\n",
    "            #dist = []\n",
    "            dist = distance.euclidean(testData.iloc[i],trainData.iloc[j])\n",
    "            #dists.append((testData.iloc[i],trainData.iloc[j],trainLabel.iloc[j],dist))\n",
    "            dists.append(dist)\n",
    "        result.append(dists)\n",
    "       \n",
    "\n",
    "    index = np.argsort(np.array(result))\n",
    "\n",
    "    neighbors=[]\n",
    "    \n",
    "    # find neighbors\n",
    "    for i in range(len(index)):\n",
    "        neighbors.append(index[i][:K])\n",
    "\n",
    "    \n",
    "    # find y\n",
    "    for i in range(len(result)):\n",
    "        for k in range(K):\n",
    "            y = np.array(trainLabel)[neighbors[i][k]]\n",
    "            y_list.append(y)\n",
    "        y_list1.append(y_list) \n",
    "        y_list = []\n",
    "\n",
    "    #avg labels\n",
    "    for i in range(len(y_list1)):\n",
    "        avg = sum(y_list1[i])/float(len(y_list1[i]))\n",
    "        #print (avg)\n",
    "        avgList.append(avg)\n",
    "    #print (avgList)\n",
    "    return avgList\n"
   ]
  },
  {
   "cell_type": "code",
   "execution_count": 12,
   "metadata": {
    "collapsed": true
   },
   "outputs": [],
   "source": [
    "# define mse function\n",
    "def Mse(predict_label,train_label):\n",
    "    error=0\n",
    "    for i in range(len(predict_label)):\n",
    "        error += (predict_label[i] - train_label.iloc[i].tolist())**2\n",
    "        MSE = np.sqrt(error/len(predict_label))\n",
    "    return MSE"
   ]
  },
  {
   "cell_type": "markdown",
   "metadata": {},
   "source": [
    "### Q2-1 Implement a L-Fold Cross Validation (CV) function for KNN regressor :\n",
    "            cv(train.data, train.label, numFold=10)"
   ]
  },
  {
   "cell_type": "code",
   "execution_count": 13,
   "metadata": {
    "collapsed": true
   },
   "outputs": [],
   "source": [
    "def crossvalidation(train_data,train_label,numFold):\n",
    "\n",
    "    array_index = np.arange(num)\n",
    "    random.shuffle(array_index)\n",
    "    \n",
    "    Error= []\n",
    "    SD = []\n",
    "    split_index = []\n",
    "    split_index =[array_index[i::numFold] for i in range(numFold)]\n",
    "    #print (split_index)\n",
    "\n",
    "    for k in range(1,21):\n",
    "        #print (\"k\",k)\n",
    "        rmse_val = 0\n",
    "        Error_list= []\n",
    "        error= []\n",
    "        sd = []\n",
    "\n",
    "        # find train and test\n",
    "        for value in range(numFold):\n",
    "            \n",
    "            test_index = split_index[value]\n",
    "            np.array(test_index) #np.array(m) \n",
    "\n",
    "            #get test dataframe\n",
    "            test_df = pd.DataFrame(trainT1A.iloc[test_index])\n",
    "\n",
    "            #get train index\n",
    "            train_index = [value for value in split_index if value not in test_index]\n",
    "            \n",
    "            all_idx = []\n",
    "            for i in range(len(train_index)):\n",
    "                train_idx = train_index[i].tolist()\n",
    "                for j in range(len(train_idx)):\n",
    "                    idx = train_idx[j]\n",
    "                    all_idx.append(idx)\n",
    "            train_df = trainT1A.ix[all_idx]\n",
    "            \n",
    "            # MSE . train - test\n",
    "            y_actual = test_df.ix[:,-1:]\n",
    "\n",
    "            # calculue KNN\n",
    "            y_predicted = KNN(train_df,train_df,test_df, k)\n",
    "            \n",
    "            sd.append(Mse(y_predicted, y_actual))\n",
    "            rmse_val += (Mse(y_predicted, y_actual))\n",
    "            error = rmse_val/(value+1)\n",
    "            \n",
    "        Error.append(error)\n",
    "        SD.append(sd)\n",
    "        \n",
    "    return Error,SD\n"
   ]
  },
  {
   "cell_type": "markdown",
   "metadata": {},
   "source": [
    "### Q2-2 Run  L-Fold CV function where the numFold is set to 10. "
   ]
  },
  {
   "cell_type": "code",
   "execution_count": 14,
   "metadata": {
    "scrolled": false
   },
   "outputs": [
    {
     "name": "stderr",
     "output_type": "stream",
     "text": [
      "/Users/chengxinrui/anaconda/envs/ipykernel_py3/lib/python3.6/site-packages/ipykernel_launcher.py:37: DeprecationWarning: elementwise == comparison failed; this will raise an error in the future.\n",
      "/Users/chengxinrui/anaconda/envs/ipykernel_py3/lib/python3.6/site-packages/ipykernel_launcher.py:60: DeprecationWarning: \n",
      ".ix is deprecated. Please use\n",
      ".loc for label based indexing or\n",
      ".iloc for positional indexing\n",
      "\n",
      "See the documentation here:\n",
      "http://pandas.pydata.org/pandas-docs/stable/indexing.html#ix-indexer-is-deprecated\n",
      "/Users/chengxinrui/anaconda/envs/ipykernel_py3/lib/python3.6/site-packages/ipykernel_launcher.py:5: DeprecationWarning: \n",
      ".ix is deprecated. Please use\n",
      ".loc for label based indexing or\n",
      ".iloc for positional indexing\n",
      "\n",
      "See the documentation here:\n",
      "http://pandas.pydata.org/pandas-docs/stable/indexing.html#ix-indexer-is-deprecated\n",
      "  \"\"\"\n"
     ]
    }
   ],
   "source": [
    "# set nunFlod = 10\n",
    "error = crossvalidation(traindata,trainlabel,10)"
   ]
  },
  {
   "cell_type": "code",
   "execution_count": 15,
   "metadata": {
    "collapsed": true
   },
   "outputs": [],
   "source": [
    "# get mean squre error and standard deviation from crossvalidation result\n",
    "MSE = error[0]\n",
    "SD = error[1]\n",
    "#print (MSE)\n",
    "#print(SD)"
   ]
  },
  {
   "cell_type": "code",
   "execution_count": 16,
   "metadata": {},
   "outputs": [
    {
     "name": "stdout",
     "output_type": "stream",
     "text": [
      "upper [array([1.09082809]), array([0.63217492]), array([0.71992413]), array([0.68445089]), array([0.94693837]), array([1.12519653]), array([1.36235687]), array([1.60954496]), array([1.80896993]), array([1.98355127]), array([2.17049017]), array([2.33059932]), array([2.46393249]), array([2.64006903]), array([2.76364992]), array([2.91290465]), array([3.05437201]), array([3.19755521]), array([3.34478227]), array([3.49555111])]\n",
      "lower [array([0.40599146]), array([0.34397147]), array([0.2527074]), array([0.1681866]), array([0.19490256]), array([0.08754486]), array([0.17369128]), array([0.20720526]), array([0.21681634]), array([0.21205818]), array([0.26505636]), array([0.30410878]), array([0.29138511]), array([0.39162802]), array([0.30515281]), array([0.33397327]), array([0.36331979]), array([0.4205276]), array([0.45996805]), array([0.48174227])]\n"
     ]
    }
   ],
   "source": [
    "# calculate upper and lower line around the average error\n",
    "upper = []\n",
    "lower = []\n",
    "\n",
    "for i in range(len(SD)):\n",
    "    sd = np.std(SD[i])\n",
    "    upper.append(MSE[i] + sd)\n",
    "    lower.append(MSE[i] - sd)\n",
    "    \n",
    "print ('upper',upper)\n",
    "print ('lower',lower)"
   ]
  },
  {
   "cell_type": "code",
   "execution_count": 20,
   "metadata": {},
   "outputs": [
    {
     "data": {
      "image/png": "[encoded data removed]",
      "text/plain": [
       "<Figure size 720x432 with 1 Axes>"
      ]
     },
     "metadata": {},
     "output_type": "display_data"
    }
   ],
   "source": [
    "#draw plot\n",
    "\n",
    "x = []\n",
    "for i in range(1,21):\n",
    "    x.append(1/i)\n",
    "    \n",
    "y1 = MSE\n",
    "x1 = x\n",
    "\n",
    "y2 = upper\n",
    "x2 = x\n",
    "\n",
    "y3 = lower\n",
    "x3 = x \n",
    "\n",
    "plt.figure(figsize=(10, 6))\n",
    "plt.plot(x1,y1,'',label=\"error\")\n",
    "plt.plot(x2,y2,'--',label=\"upper \")\n",
    "plt.plot(x3,y3,'--',label=\"lower \")\n",
    "\n",
    "\n",
    "plt.title('L-Fold Cross Validation Error')\n",
    "plt.legend(loc='upper right')\n",
    "plt.xlabel('1/K')\n",
    "plt.ylabel('Error')\n",
    "plt.grid(x)\n",
    "plt.show()"
   ]
  },
  {
   "cell_type": "markdown",
   "metadata": {},
   "source": [
    "### Q2-3 Report the values of K that result to minimum average error and minimum standard deviation of errors based on your cross validation plot in the previous part (Part II)."
   ]
  },
  {
   "cell_type": "markdown",
   "metadata": {},
   "source": [
    "- The values of K that result to minimum average error : k = 4 (1/k = 0.25)\n",
    "- The values of K that result to minimum standard deviation of errors : k = 7 (1/k =0.15)"
   ]
  },
  {
   "cell_type": "code",
   "execution_count": null,
   "metadata": {
    "collapsed": true
   },
   "outputs": [],
   "source": []
  }
 ],
 "metadata": {
  "kernelspec": {
   "display_name": "Python 3",
   "language": "python",
   "name": "python3"
  },
  "language_info": {
   "codemirror_mode": {
    "name": "ipython",
    "version": 3
   },
   "file_extension": ".py",
   "mimetype": "text/x-python",
   "name": "python",
   "nbconvert_exporter": "python",
   "pygments_lexer": "ipython3",
   "version": "3.6.4"
  }
 },
 "nbformat": 4,
 "nbformat_minor": 2
}
