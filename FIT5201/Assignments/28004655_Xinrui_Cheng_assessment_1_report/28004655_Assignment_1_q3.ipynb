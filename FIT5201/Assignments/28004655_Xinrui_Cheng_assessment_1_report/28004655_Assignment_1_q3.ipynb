{
 "cells": [
  {
   "cell_type": "markdown",
   "metadata": {},
   "source": [
    "# Section B. Prediction Uncertainty with Bootstrapping\n",
    "## Question 3 [Bootstrapping, 20 Marks]"
   ]
  },
  {
   "cell_type": "code",
   "execution_count": 34,
   "metadata": {
    "collapsed": true
   },
   "outputs": [],
   "source": [
    "import pandas as pd\n",
    "import matplotlib.pyplot as plt\n",
    "%matplotlib inline\n",
    "import numpy as np\n",
    "\n",
    "from scipy.spatial import distance\n",
    "import random"
   ]
  },
  {
   "cell_type": "code",
   "execution_count": 35,
   "metadata": {
    "collapsed": true
   },
   "outputs": [],
   "source": [
    "trainT1B = pd.read_table('assessments_datasets/Task1B_train.csv', sep=\",\")\n",
    "testT1B = pd.read_table('assessments_datasets/Task1B_test.csv', sep=\",\")"
   ]
  },
  {
   "cell_type": "code",
   "execution_count": 36,
   "metadata": {},
   "outputs": [
    {
     "name": "stderr",
     "output_type": "stream",
     "text": [
      "/Users/chengxinrui/anaconda/envs/ipykernel_py3/lib/python3.6/site-packages/ipykernel_launcher.py:1: DeprecationWarning: \n",
      ".ix is deprecated. Please use\n",
      ".loc for label based indexing or\n",
      ".iloc for positional indexing\n",
      "\n",
      "See the documentation here:\n",
      "http://pandas.pydata.org/pandas-docs/stable/indexing.html#ix-indexer-is-deprecated\n",
      "  \"\"\"Entry point for launching an IPython kernel.\n",
      "/Users/chengxinrui/anaconda/envs/ipykernel_py3/lib/python3.6/site-packages/ipykernel_launcher.py:2: DeprecationWarning: \n",
      ".ix is deprecated. Please use\n",
      ".loc for label based indexing or\n",
      ".iloc for positional indexing\n",
      "\n",
      "See the documentation here:\n",
      "http://pandas.pydata.org/pandas-docs/stable/indexing.html#ix-indexer-is-deprecated\n",
      "  \n"
     ]
    }
   ],
   "source": [
    "trainData = trainT1B.ix[:,:-1]\n",
    "testData = testT1B.ix[:,:-1]\n",
    "trainLabel = trainT1B.ix[:,-1:]"
   ]
  },
  {
   "cell_type": "code",
   "execution_count": 38,
   "metadata": {
    "collapsed": true
   },
   "outputs": [],
   "source": [
    "def KNN(train_data, train_label, test_data, K):\n",
    "    \n",
    "    # get data\n",
    "    trainData = train_data.ix[:,:-1]\n",
    "    trainLabel = train_label.ix[:,-1:]\n",
    "    testData = test_data.ix[:,:-1]\n",
    "    \n",
    "    dist = []\n",
    "    neighbors = []\n",
    "    distances = []\n",
    "    dists = []\n",
    "    avgList = []\n",
    "    result = []\n",
    "    result1 = []\n",
    "    y_list = []\n",
    "    y_list1 = []\n",
    "    \n",
    "    # calculus distance\n",
    "    for i in range(len(testData)):\n",
    "        dists = []\n",
    "        for j in range(len(trainData)):\n",
    "            #dist = []\n",
    "            dist = distance.euclidean(testData.iloc[i],trainData.iloc[j])\n",
    "            #dists.append((testData.iloc[i],trainData.iloc[j],trainLabel.iloc[j],dist))\n",
    "            dists.append(dist)\n",
    "        result.append(dists)\n",
    "       \n",
    "\n",
    "    index = np.argsort(np.array(result))\n",
    "\n",
    "    neighbors=[]\n",
    "    \n",
    "    # find neighbors\n",
    "    for i in range(len(index)):\n",
    "        neighbors.append(index[i][:K])\n",
    "\n",
    "    \n",
    "    # find y\n",
    "    for i in range(len(result)):\n",
    "        for k in range(K):\n",
    "            y = np.array(trainLabel)[neighbors[i][k]]\n",
    "            y_list.append(y)\n",
    "        y_list1.append(y_list) \n",
    "        y_list = []\n",
    "\n",
    "    #avg labels\n",
    "    for i in range(len(y_list1)):\n",
    "        avg = sum(y_list1[i])/float(len(y_list1[i]))\n",
    "        #print (avg)\n",
    "        avgList.append(avg)\n",
    "    #print (avgList)\n",
    "    return avgList\n"
   ]
  },
  {
   "cell_type": "code",
   "execution_count": 39,
   "metadata": {
    "collapsed": true
   },
   "outputs": [],
   "source": [
    "# define mse function\n",
    "def Mse(predict_label,train_label):\n",
    "    error=0\n",
    "    for i in range(len(predict_label)):\n",
    "        error += (predict_label[i] - train_label.iloc[i].tolist())**2\n",
    "        MSE = np.sqrt(error/len(predict_label))\n",
    "    return MSE"
   ]
  },
  {
   "cell_type": "markdown",
   "metadata": {},
   "source": [
    "### Q3-1 Define bootstrapping for KNN regression."
   ]
  },
  {
   "cell_type": "code",
   "execution_count": 40,
   "metadata": {
    "collapsed": true
   },
   "outputs": [],
   "source": [
    "def bootstrapping(oriange_size, sample_size, times): #times=100\n",
    "    \n",
    "    array = np.arange(oriange_size)\n",
    "    #print (array)\n",
    "    np.random.shuffle(array)\n",
    "    \n",
    "    sample_all = []\n",
    "    for i in range(times):\n",
    "        sample = []\n",
    "        sample_index = np.floor(np.random.rand(sample_size)*len(array)).astype(int)\n",
    "        #print (sample_index)\n",
    "        sample = array[sample_index]\n",
    "        sample_all.append(sample)\n",
    "    \n",
    "    return sample_all\n"
   ]
  },
  {
   "cell_type": "code",
   "execution_count": 41,
   "metadata": {
    "collapsed": true
   },
   "outputs": [],
   "source": [
    "boots = bootstrapping(len(trainData),25,100)\n",
    "#boots"
   ]
  },
  {
   "cell_type": "code",
   "execution_count": 42,
   "metadata": {},
   "outputs": [
    {
     "data": {
      "text/plain": [
       "100"
      ]
     },
     "execution_count": 42,
     "metadata": {},
     "output_type": "execute_result"
    }
   ],
   "source": [
    "len(boots)"
   ]
  },
  {
   "cell_type": "markdown",
   "metadata": {},
   "source": [
    "### Q3-2 \n",
    "Apply your bootstrapping for KNN regression with times = 100 (the number of subsets), size = 25 (the size of each subset), and change K=1,..,20 (the neighbourhood size). Now create a boxplot where the x-axis is K, and the y- axis is the average error (and the uncertainty around it) corresponding to each K. Save the plot in your Jupyter Notebook file for Question 3."
   ]
  },
  {
   "cell_type": "code",
   "execution_count": 43,
   "metadata": {},
   "outputs": [
    {
     "name": "stderr",
     "output_type": "stream",
     "text": [
      "/Users/chengxinrui/anaconda/envs/ipykernel_py3/lib/python3.6/site-packages/ipykernel_launcher.py:4: DeprecationWarning: \n",
      ".ix is deprecated. Please use\n",
      ".loc for label based indexing or\n",
      ".iloc for positional indexing\n",
      "\n",
      "See the documentation here:\n",
      "http://pandas.pydata.org/pandas-docs/stable/indexing.html#ix-indexer-is-deprecated\n",
      "  after removing the cwd from sys.path.\n",
      "/Users/chengxinrui/anaconda/envs/ipykernel_py3/lib/python3.6/site-packages/ipykernel_launcher.py:5: DeprecationWarning: \n",
      ".ix is deprecated. Please use\n",
      ".loc for label based indexing or\n",
      ".iloc for positional indexing\n",
      "\n",
      "See the documentation here:\n",
      "http://pandas.pydata.org/pandas-docs/stable/indexing.html#ix-indexer-is-deprecated\n",
      "  \"\"\"\n"
     ]
    }
   ],
   "source": [
    "y_actual = testT1B.ix[:,-1:]\n",
    "\n",
    "K_Error_list = []\n",
    "for k in range(1,21):\n",
    "    Error_list = []\n",
    "    for l in range(0,100):\n",
    "        # get a traindata for each time\n",
    "        idx = boots[l]\n",
    "        idx1 = idx.tolist()\n",
    "        y_predicted = KNN(trainT1B.iloc[idx1],trainT1B.iloc[idx1],testT1B,k)\n",
    "        # error\n",
    "        error = Mse(y_predicted, y_actual)/len(y_predicted)\n",
    "        Error_list.append(error)\n",
    "    K_Error_list.append(Error_list)\n",
    "#print (K_Error_list)"
   ]
  },
  {
   "cell_type": "code",
   "execution_count": 46,
   "metadata": {},
   "outputs": [
    {
     "data": {
      "text/plain": [
       "100"
      ]
     },
     "execution_count": 46,
     "metadata": {},
     "output_type": "execute_result"
    }
   ],
   "source": [
    "len(K_Error_list[0])"
   ]
  },
  {
   "cell_type": "code",
   "execution_count": 48,
   "metadata": {
    "collapsed": true
   },
   "outputs": [],
   "source": [
    "def get_list (original_list,index):\n",
    "    k_list = original_list[index]\n",
    "    ki = []\n",
    "    for i in range(len(k_list)):\n",
    "        ki.append(k_list[i][0])\n",
    "    return ki"
   ]
  },
  {
   "cell_type": "code",
   "execution_count": 49,
   "metadata": {
    "collapsed": true
   },
   "outputs": [],
   "source": [
    "k1 = get_list(K_Error_list,0)\n",
    "k2 = get_list(K_Error_list,1)\n",
    "k3 = get_list(K_Error_list,2)\n",
    "k4 = get_list(K_Error_list,3)\n",
    "k5 = get_list(K_Error_list,4)\n",
    "k6 = get_list(K_Error_list,5)\n",
    "k7 = get_list(K_Error_list,6)\n",
    "k8 = get_list(K_Error_list,7)\n",
    "k9 = get_list(K_Error_list,8)\n",
    "k10 = get_list(K_Error_list,9)\n",
    "k11 = get_list(K_Error_list,10)\n",
    "k12 = get_list(K_Error_list,11)\n",
    "k13 = get_list(K_Error_list,12)\n",
    "k14 = get_list(K_Error_list,13)\n",
    "k15 = get_list(K_Error_list,14)\n",
    "k16 = get_list(K_Error_list,15)\n",
    "k17 = get_list(K_Error_list,16)\n",
    "k18 = get_list(K_Error_list,17)\n",
    "k19 = get_list(K_Error_list,18)\n",
    "k20 = get_list(K_Error_list,19)"
   ]
  },
  {
   "cell_type": "code",
   "execution_count": 50,
   "metadata": {},
   "outputs": [
    {
     "data": {
      "image/png": "[encoded data removed]",
      "text/plain": [
       "<Figure size 432x288 with 1 Axes>"
      ]
     },
     "metadata": {},
     "output_type": "display_data"
    }
   ],
   "source": [
    "#data = pd.DataFrame({  \n",
    "#    \"k1\":k1,\"k2\":k2,\"k3\":k3,\"k4\":k4,\"k5\":k5,\"k6\":k6,\"k7\":k7, \"k8\":k8, \"k9\":k9, \"k10\":k10,\"k11\":k11,\n",
    "#})  \n",
    "\n",
    "data = pd.DataFrame({  \n",
    "    1:k1, 2:k2, 3:k3, 4:k4, 5:k5, 6:k6, 7:k7, 8:k8, 9:k9, 10:k10, 11:k11,\n",
    "    12:k12, 13:k13, 14:k14, 15:k15, 16:k16, 17:k17, 18:k18, 19:k19, 20:k20\n",
    "})  \n",
    "\n",
    "#draw  \n",
    "data.boxplot()  \n",
    "plt.ylabel(\"Error\")  \n",
    "plt.xlabel(\"K\")  \n",
    "plt.show()  "
   ]
  },
  {
   "cell_type": "markdown",
   "metadata": {},
   "source": [
    "### Q3-3 Based on the plot in the previous part (Part I), how does the test error and its uncertainty behave as K increases? \n",
    "\n",
    "The plot shows that as k increases the number of outliers reduced and the range of the maximum and minimum value of each box shortened, which indicates the test error increases and the uncertainty decreases."
   ]
  },
  {
   "cell_type": "markdown",
   "metadata": {},
   "source": [
    "### Q3-4 \n",
    "Load Task1B_train.csv and Task1B_test.csv sets. Apply your bootstrapping for KNN regression with K=10 (the neighbourhood size), size = 25 (the size of each subset), and change times = 10, 20, 30,.., 200 (the number of subsets). Now create a boxplot where the x-axis is ‘times’, and the y-axis is the average error (and the uncertainty around it) corresponding to each value of ‘times’. Save the plot in your Jupyter Notebook file for Question 3."
   ]
  },
  {
   "cell_type": "code",
   "execution_count": 53,
   "metadata": {},
   "outputs": [
    {
     "name": "stderr",
     "output_type": "stream",
     "text": [
      "/Users/chengxinrui/anaconda/envs/ipykernel_py3/lib/python3.6/site-packages/ipykernel_launcher.py:4: DeprecationWarning: \n",
      ".ix is deprecated. Please use\n",
      ".loc for label based indexing or\n",
      ".iloc for positional indexing\n",
      "\n",
      "See the documentation here:\n",
      "http://pandas.pydata.org/pandas-docs/stable/indexing.html#ix-indexer-is-deprecated\n",
      "  after removing the cwd from sys.path.\n",
      "/Users/chengxinrui/anaconda/envs/ipykernel_py3/lib/python3.6/site-packages/ipykernel_launcher.py:5: DeprecationWarning: \n",
      ".ix is deprecated. Please use\n",
      ".loc for label based indexing or\n",
      ".iloc for positional indexing\n",
      "\n",
      "See the documentation here:\n",
      "http://pandas.pydata.org/pandas-docs/stable/indexing.html#ix-indexer-is-deprecated\n",
      "  \"\"\"\n"
     ]
    }
   ],
   "source": [
    "Error_list = []\n",
    "#array = trainData.index.tolist()\n",
    "\n",
    "y_actual = testT1B.ix[:,-1:]\n",
    "\n",
    "for times in range(10,201,10):#range(10,201,10)\n",
    "    boots = bootstrapping(len(trainT1B),25,times)\n",
    "    #print (boots)\n",
    "    Error_list.append([])\n",
    "    for indx in range(len(boots)):\n",
    "        idx1 = boots[indx]\n",
    "        idx1.tolist()\n",
    "        y_predicted = KNN(trainT1B.iloc[idx1],trainT1B.iloc[idx1],testT1B,10)\n",
    "        error = Mse(y_predicted, y_actual)\n",
    "        idx = int(times/10)-1\n",
    "        #print (idx)\n",
    "        Error_list[idx].append(error)"
   ]
  },
  {
   "cell_type": "code",
   "execution_count": 56,
   "metadata": {},
   "outputs": [
    {
     "data": {
      "image/png": "[encoded data removed]",
      "text/plain": [
       "<Figure size 432x288 with 1 Axes>"
      ]
     },
     "metadata": {},
     "output_type": "display_data"
    }
   ],
   "source": [
    "plt.boxplot(Error_list)\n",
    "plt.show()"
   ]
  },
  {
   "cell_type": "markdown",
   "metadata": {},
   "source": [
    "### Q3-5 Based on the plot in the previous part (Part IV), how does the test error and its uncertainty behave as the number of subsets in bootstrapping increases? "
   ]
  },
  {
   "cell_type": "markdown",
   "metadata": {
    "collapsed": true
   },
   "source": [
    "Based on the plot 3.4, test error and its uncertainty behave are not much changes as the number of subsets in bootstrapping increases."
   ]
  },
  {
   "cell_type": "code",
   "execution_count": null,
   "metadata": {
    "collapsed": true
   },
   "outputs": [],
   "source": []
  }
 ],
 "metadata": {
  "kernelspec": {
   "display_name": "Python 3",
   "language": "python",
   "name": "python3"
  },
  "language_info": {
   "codemirror_mode": {
    "name": "ipython",
    "version": 3
   },
   "file_extension": ".py",
   "mimetype": "text/x-python",
   "name": "python",
   "nbconvert_exporter": "python",
   "pygments_lexer": "ipython3",
   "version": "3.6.4"
  }
 },
 "nbformat": 4,
 "nbformat_minor": 2
}
