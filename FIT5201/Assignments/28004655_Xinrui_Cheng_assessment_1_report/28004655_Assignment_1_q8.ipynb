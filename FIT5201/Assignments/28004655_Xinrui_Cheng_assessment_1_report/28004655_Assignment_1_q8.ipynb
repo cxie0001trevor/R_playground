{
 "cells": [
  {
   "cell_type": "markdown",
   "metadata": {},
   "source": [
    "# Section F. Multiclass Perceptron\n",
    "## Question 8 [Multiclass Perceptron, 25 Marks]"
   ]
  },
  {
   "cell_type": "markdown",
   "metadata": {},
   "source": [
    "Training Algorithm. We train the multiclass perceptron based on the following algorithm:\n",
    "-    Initialise the weight vectors randomly w1,..,wK\n",
    "-    While not converged do:\n",
    "-     o For n=1 to N do:\n",
    "    -      y = argma xk wk * xn\n",
    "    -      If y! = yn do\n",
    "        -      wy: = wy - ηxn\n",
    "        -      wyn : = wyn + ηxn"
   ]
  },
  {
   "cell_type": "code",
   "execution_count": 1,
   "metadata": {
    "collapsed": true
   },
   "outputs": [],
   "source": [
    "import pandas as pd\n",
    "import numpy as np\n",
    "from numpy import array, dot, random\n",
    "from random import choice\n",
    "import math\n",
    "import operator\n",
    "from collections import Counter\n",
    "import matplotlib.pyplot as plt"
   ]
  },
  {
   "cell_type": "markdown",
   "metadata": {},
   "source": [
    "### Load Task2C_train.csv and Task2C_test.csv sets."
   ]
  },
  {
   "cell_type": "code",
   "execution_count": 52,
   "metadata": {},
   "outputs": [
    {
     "name": "stderr",
     "output_type": "stream",
     "text": [
      "/Users/chengxinrui/anaconda/envs/ipykernel_py3/lib/python3.6/site-packages/ipykernel_launcher.py:8: DeprecationWarning: \n",
      ".ix is deprecated. Please use\n",
      ".loc for label based indexing or\n",
      ".iloc for positional indexing\n",
      "\n",
      "See the documentation here:\n",
      "http://pandas.pydata.org/pandas-docs/stable/indexing.html#ix-indexer-is-deprecated\n",
      "  \n",
      "/Users/chengxinrui/anaconda/envs/ipykernel_py3/lib/python3.6/site-packages/ipykernel_launcher.py:10: DeprecationWarning: \n",
      ".ix is deprecated. Please use\n",
      ".loc for label based indexing or\n",
      ".iloc for positional indexing\n",
      "\n",
      "See the documentation here:\n",
      "http://pandas.pydata.org/pandas-docs/stable/indexing.html#ix-indexer-is-deprecated\n",
      "  # Remove the CWD from sys.path while we load stuff.\n"
     ]
    }
   ],
   "source": [
    "trainT2C = pd.read_csv('assessments_datasets/Task2C_train.csv')\n",
    "testT2C = pd.read_csv('assessments_datasets/Task2C_test.csv')\n",
    "\n",
    "#shuffle dataset\n",
    "random_train = trainT2C.sample(frac=1)\n",
    "random_test = testT2C.sample(frac=1)\n",
    "\n",
    "train_data = random_train.ix[:, :-1]\n",
    "train_label = random_train.ix[:, -1:]\n",
    "test_data = random_test.ix[:, :-1]\n",
    "test_label = random_test.ix[:, -1:]"
   ]
  },
  {
   "cell_type": "code",
   "execution_count": 59,
   "metadata": {},
   "outputs": [
    {
     "data": {
      "text/plain": [
       "{'C1': array([0.62428487, 0.18510458, 0.35443458, 0.63190633]),\n",
       " 'C2': array([0.79779515, 0.92313449, 0.68547031, 0.75033296]),\n",
       " 'C3': array([0.69330126, 0.85288887, 0.06365639, 0.34859595])}"
      ]
     },
     "execution_count": 59,
     "metadata": {},
     "output_type": "execute_result"
    }
   ],
   "source": [
    "#train_data['dummy'] = 1\n",
    "#test_data['dummy'] = 1\n",
    "\n",
    "errors = []\n",
    "\n",
    "w1 = np.random.rand(4)\n",
    "w2 = np.random.rand(4)\n",
    "w3 = np.random.rand(4)\n",
    "Weight = {'C1': w1, 'C2': w2, 'C3': w3}\n",
    "Weight"
   ]
  },
  {
   "cell_type": "code",
   "execution_count": 54,
   "metadata": {
    "collapsed": true
   },
   "outputs": [],
   "source": [
    "def sigmoid(x):\n",
    "      return 1 / (1 + math.exp(-x))"
   ]
  },
  {
   "cell_type": "code",
   "execution_count": 55,
   "metadata": {
    "collapsed": true
   },
   "outputs": [],
   "source": [
    "def update(data, label, weight):\n",
    "    \n",
    "    \"\"\"\n",
    "    Update weight. \n",
    "    If predict True, then increase the weight, ortherwise, decrease the weight.\n",
    "    \n",
    "    Arguments:\n",
    "    data & label -- indicates x and y of dataset\n",
    "\n",
    "    Return:\n",
    "    weight -- new weight\n",
    "    \"\"\"\n",
    "    \n",
    "    for k in range(len(data)):\n",
    "        result1 = sigmoid(dot(weight['C1'], data.iloc[k]))\n",
    "        result2 = sigmoid(dot(weight['C2'], data.iloc[k]))\n",
    "        result3 = sigmoid(dot(weight['C3'], data.iloc[k]))\n",
    "        result = {'C1':result1, 'C2':result2, 'C3':result3}\n",
    "        #print(result)\n",
    "        C = max(result, key = result.get)\n",
    "        #print(C)\n",
    "\n",
    "        #Update weight\n",
    "        if C != label.y.iloc[k]:\n",
    "            #print ('C',C)\n",
    "            weight[C] = weight[C] - 0.1 * data.values[k]\n",
    "            weight[label.y.iloc[k]] = weight[label.y.iloc[k]] + 0.1 * data.values[k]\n",
    "    return weight"
   ]
  },
  {
   "cell_type": "code",
   "execution_count": 56,
   "metadata": {
    "collapsed": true
   },
   "outputs": [],
   "source": [
    "def test_prediction(testData, layer):\n",
    "    \n",
    "    \"\"\"\n",
    "    Predict the label of testset. \n",
    "    \n",
    "    Arguments:\n",
    "    testData -- Predicted data set\n",
    "    layer -- weight\n",
    "\n",
    "    Return:\n",
    "    predicted -- predicted result\n",
    "    \"\"\"\n",
    "        \n",
    "    predicted = []\n",
    "    for k in range(len(test_data)):\n",
    "        result1 = sigmoid(dot(layer['C1'], testData.iloc[k]))\n",
    "        result2 = sigmoid(dot(layer['C2'], testData.iloc[k]))\n",
    "        result3 = sigmoid(dot(layer['C3'], testData.iloc[k]))\n",
    "        #print(result1, result2, result3)\n",
    "\n",
    "        result = {'C1':result1, 'C2':result2, 'C3':result3}\n",
    "        predicted.append(max(result, key = result.get))\n",
    "    return predicted"
   ]
  },
  {
   "cell_type": "code",
   "execution_count": 64,
   "metadata": {},
   "outputs": [
    {
     "name": "stdout",
     "output_type": "stream",
     "text": [
      "[5, 10, 15, 20, 25, 30, 35, 40, 45, 50, 55, 60, 65, 70, 75]\n",
      "[25, 25, 11, 11, 11, 26, 25, 25, 11, 11, 27, 25, 25, 25, 1]\n"
     ]
    }
   ],
   "source": [
    "# get mini_batch and calculate error\n",
    "Error = []\n",
    "mini_batch = []\n",
    "train_data.sample(frac=1)\n",
    "\n",
    "for i in range(5,len(train_data)+1,5):\n",
    "    mini_batch.append(i)\n",
    "    start = i-5\n",
    "    end = i\n",
    "    error = 0\n",
    "    #print ('start',start)\n",
    "    #print ('end',end)\n",
    "    each_training = train_data[start:end]\n",
    "    each_label = train_label[start:end]\n",
    "    #print (training_data)\n",
    "    new_weight = update(each_training, each_label, Weight)\n",
    "    #print('New weight: ', weight, '\\n')\n",
    "    prediction = test_prediction(test_data, new_weight)\n",
    "    \n",
    "    for i in range(len(test_label)):\n",
    "        if prediction[i] != test_label.y.iloc[i]:\n",
    "            error +=1\n",
    "        #print (error)\n",
    "    Error.append(error)\n",
    "    start += 5\n",
    "    end += 5\n",
    "print (mini_batch)\n",
    "print (Error)"
   ]
  },
  {
   "cell_type": "code",
   "execution_count": 65,
   "metadata": {},
   "outputs": [
    {
     "data": {
      "image/png": "[encoded data removed]",
      "text/plain": [
       "<Figure size 432x288 with 1 Axes>"
      ]
     },
     "metadata": {},
     "output_type": "display_data"
    }
   ],
   "source": [
    "plt.title('Test Error Vs Mini batch')\n",
    "plt.xlabel('Each of batch')\n",
    "plt.ylabel('Error')\n",
    "plt.plot(mini_batch, Error)\n",
    "plt.show()"
   ]
  },
  {
   "cell_type": "markdown",
   "metadata": {},
   "source": [
    "### 8.3\n",
    "Set the learning rate η to .1, and train the multiclass perceptron on the provided training data. After processing every 5 training data points (also known as a mini-batch), evaluate the error of the current model on the test data. Plot the error of the test data vs the number of mini-batches, and include it in your Jupyter Notebook file for Question 8."
   ]
  },
  {
   "cell_type": "code",
   "execution_count": 66,
   "metadata": {
    "collapsed": true
   },
   "outputs": [],
   "source": [
    "test_data = random_test.iloc[:, 0:-1]\n",
    "test_label = random_test.iloc[:, -1].tolist()"
   ]
  },
  {
   "cell_type": "code",
   "execution_count": 67,
   "metadata": {
    "collapsed": true
   },
   "outputs": [],
   "source": [
    "def binary_predict(testData, weight, testLabel = None):\n",
    "        \n",
    "    \"\"\"\n",
    "    Change the layer based on the predict result. \n",
    "    \n",
    "    Arguments:\n",
    "    testData -- Predicted data set\n",
    "    weight -- the result of binary_layer function\n",
    "\n",
    "    Return:\n",
    "    label -- new label\n",
    "    \"\"\"\n",
    "    \n",
    "    pred = dot(testData, weight)\n",
    "    label = [1 if i > 0 else -1 for i in pred]\n",
    "    return label"
   ]
  },
  {
   "cell_type": "code",
   "execution_count": 68,
   "metadata": {
    "collapsed": true
   },
   "outputs": [],
   "source": [
    "def binary_layer(trainData, trainLabel, num = 100, learning_rate= 0.1):\n",
    "            \n",
    "    \"\"\"\n",
    "    Update the weight. \n",
    "    \n",
    "    Arguments:\n",
    "    trainData & trainLabel-- Predicted data set\n",
    "    learning_rate= 0.1\n",
    "    \n",
    "    Return:\n",
    "    label -- new layer\n",
    "    \n",
    "    \"\"\"\n",
    "    \n",
    "    layer = sorted(list(set(trainLabel)))[0]\n",
    "    weight = np.random.rand(4)\n",
    "    trainLabel = [1 if x == layer else -1 for x in trainLabel]\n",
    "    #counter = 0\n",
    "    #print (trainLabel)\n",
    "    \n",
    "    while num > 0:\n",
    "        for i in range(len(trainData)):\n",
    "            pred = dot(trainData.iloc[i], weight)\n",
    "            \n",
    "            #change to the layer\n",
    "            if pred > 0:\n",
    "                pred = 1\n",
    "            else:\n",
    "                pred = -1\n",
    "                \n",
    "            #update the weights\n",
    "            if pred != trainLabel[i]:\n",
    "                for ith_weight in range(len(weight)):\n",
    "                    weight[ith_weight] += 0.1 * trainData.iloc[i, ith_weight] * trainLabel[i]\n",
    "        num -= 1\n",
    "    pred = dot(trainData, weight)\n",
    "    lab = [1 if i >=0 else -1 for i in pred]\n",
    "    \n",
    "    return weight\n",
    "        "
   ]
  },
  {
   "cell_type": "code",
   "execution_count": 69,
   "metadata": {
    "collapsed": true
   },
   "outputs": [],
   "source": [
    "data_c1_c2 = random_train.loc[random_train['y'].isin(['C1', 'C2'])].reset_index(drop = True)\n",
    "data_c1_c3 = random_train.loc[random_train['y'].isin(['C1', 'C3'])].reset_index(drop = True)\n",
    "data_c2_c3 = random_train.loc[random_train['y'].isin(['C2', 'C3'])].reset_index(drop = True)"
   ]
  },
  {
   "cell_type": "code",
   "execution_count": 70,
   "metadata": {
    "collapsed": true
   },
   "outputs": [],
   "source": [
    "label_c1_c2 = data_c1_c2.iloc[:, -1].tolist()\n",
    "label_c1_c3 = data_c1_c3.iloc[:, -1].tolist()\n",
    "label_c2_c3 = data_c2_c3.iloc[:, -1].tolist()"
   ]
  },
  {
   "cell_type": "code",
   "execution_count": 71,
   "metadata": {
    "collapsed": true
   },
   "outputs": [],
   "source": [
    "data_c1_c2 = data_c1_c2.iloc[:,0 :-1]\n",
    "data_c1_c3 = data_c1_c3.iloc[:,0 :-1]\n",
    "data_c2_c3 = data_c2_c3.iloc[:,0 :-1]"
   ]
  },
  {
   "cell_type": "code",
   "execution_count": 72,
   "metadata": {
    "collapsed": true
   },
   "outputs": [],
   "source": [
    "weight_c1_c2 = binary_layer(data_c1_c2, label_c1_c2)\n",
    "weight_c1_c3 = binary_layer(data_c1_c3, label_c1_c3)\n",
    "weight_c2_c3 = binary_layer(data_c2_c3, label_c2_c3)"
   ]
  },
  {
   "cell_type": "code",
   "execution_count": 73,
   "metadata": {
    "collapsed": true
   },
   "outputs": [],
   "source": [
    "test_data = random_test.iloc[:, 0:-1]"
   ]
  },
  {
   "cell_type": "code",
   "execution_count": 74,
   "metadata": {
    "scrolled": true
   },
   "outputs": [
    {
     "name": "stdout",
     "output_type": "stream",
     "text": [
      "The C1-C2 classfier for test_c1_c2: [1, -1, -1, 1, -1, -1, -1, -1, 1, 1, -1, 1, -1, 1, -1, -1, 1, -1, -1, 1, -1, 1, 1, -1, -1, -1, 1, -1, -1, -1, -1, -1, -1, -1, 1, -1, -1, -1, -1, 1, -1, -1, -1, -1, -1, 1, -1, 1, -1, -1, -1, -1, -1, -1, 1, 1, 1, -1, -1, -1, -1, 1, 1, 1, -1, 1, 1, -1, -1, 1, -1, -1, -1, 1, -1] \n",
      "\n",
      "The C1-C3 classfier for test_c1_c3: [1, -1, -1, 1, -1, -1, -1, -1, 1, 1, -1, 1, -1, 1, -1, -1, 1, -1, -1, 1, -1, 1, 1, -1, -1, -1, 1, -1, -1, -1, -1, -1, -1, -1, 1, -1, -1, -1, -1, 1, -1, -1, -1, -1, -1, 1, -1, 1, -1, -1, -1, -1, -1, -1, 1, 1, 1, -1, -1, -1, -1, 1, 1, 1, -1, 1, 1, -1, -1, 1, -1, -1, -1, 1, -1] \n",
      "\n",
      "The C2-C3 classfier for test_c2_c3: [1, 1, 1, 1, -1, -1, 1, -1, 1, 1, 1, 1, -1, 1, 1, 1, 1, 1, 1, 1, -1, 1, 1, 1, 1, -1, 1, -1, 1, -1, 1, -1, -1, -1, 1, -1, 1, 1, 1, 1, 1, -1, 1, -1, 1, 1, 1, 1, -1, 1, 1, -1, 1, -1, 1, 1, 1, 1, -1, 1, -1, 1, 1, 1, -1, 1, 1, 1, 1, 1, 1, 1, 1, 1, -1] \n",
      "\n"
     ]
    }
   ],
   "source": [
    "test_c1_c2 = binary_predict(test_data, weight_c1_c2)\n",
    "test_c1_c3 = binary_predict(test_data, weight_c1_c3)\n",
    "test_c2_c3 = binary_predict(test_data, weight_c2_c3)\n",
    "print('The C1-C2 classfier for test_c1_c2:',test_c1_c2, '\\n')\n",
    "print('The C1-C3 classfier for test_c1_c3:',test_c1_c3, '\\n')\n",
    "print('The C2-C3 classfier for test_c2_c3:',test_c2_c3, '\\n')"
   ]
  },
  {
   "cell_type": "code",
   "execution_count": 75,
   "metadata": {
    "collapsed": true
   },
   "outputs": [],
   "source": [
    "test_c1_c2 = ['C1' if x ==1 else 'C2' for x in test_c1_c2]\n",
    "test_c1_c3 = ['C1' if x ==1 else 'C3' for x in test_c1_c3]\n",
    "test_c2_c3 = ['C2' if x ==1 else 'C3' for x in test_c2_c3]"
   ]
  },
  {
   "cell_type": "code",
   "execution_count": 76,
   "metadata": {},
   "outputs": [
    {
     "name": "stdout",
     "output_type": "stream",
     "text": [
      "['C1', 'C2', 'C2', 'C1', 'C3', 'C3', 'C2', 'C3', 'C1', 'C1', 'C2', 'C1', 'C3', 'C1', 'C2', 'C2', 'C1', 'C2', 'C2', 'C1', 'C3', 'C1', 'C1', 'C2', 'C2', 'C3', 'C1', 'C3', 'C2', 'C3', 'C2', 'C3', 'C3', 'C3', 'C1', 'C3', 'C2', 'C2', 'C2', 'C1', 'C2', 'C3', 'C2', 'C3', 'C2', 'C1', 'C2', 'C1', 'C3', 'C2', 'C2', 'C3', 'C2', 'C3', 'C1', 'C1', 'C1', 'C2', 'C3', 'C2', 'C3', 'C1', 'C1', 'C1', 'C3', 'C1', 'C1', 'C2', 'C2', 'C1', 'C2', 'C2', 'C2', 'C1', 'C3']\n"
     ]
    }
   ],
   "source": [
    "predict_label = []\n",
    "for i in range(len(test_c1_c2)):\n",
    "    label = []\n",
    "    label.append(test_c1_c2[i])\n",
    "    label.append(test_c1_c3[i])\n",
    "    label.append(test_c2_c3[i])\n",
    "    #print(label, '\\n')\n",
    "    if sorted(label) == sorted(list(set(label))):\n",
    "        predict_label.append('confusion event')\n",
    "    else:\n",
    "        predict_label.append(max(set(label), key = label.count))\n",
    "print(predict_label)"
   ]
  },
  {
   "cell_type": "markdown",
   "metadata": {},
   "source": [
    "### Q8-4-c. Did you expect to see a confusion event in the one-versus-one approach ? For how many test data points you have observed confusion? Why?"
   ]
  },
  {
   "cell_type": "markdown",
   "metadata": {
    "collapsed": true
   },
   "source": [
    "I expect to see a confusion event in the one-versus-one approach. One class is predicted as 1 and others is predcicted as -1, however, each class only a small part of the all data set. As a result, each prediction is likely closs to real label. In this dataset, there is no confusion event."
   ]
  },
  {
   "cell_type": "code",
   "execution_count": null,
   "metadata": {
    "collapsed": true
   },
   "outputs": [],
   "source": []
  }
 ],
 "metadata": {
  "kernelspec": {
   "display_name": "Python 3",
   "language": "python",
   "name": "python3"
  },
  "language_info": {
   "codemirror_mode": {
    "name": "ipython",
    "version": 3
   },
   "file_extension": ".py",
   "mimetype": "text/x-python",
   "name": "python",
   "nbconvert_exporter": "python",
   "pygments_lexer": "ipython3",
   "version": "3.6.4"
  }
 },
 "nbformat": 4,
 "nbformat_minor": 2
}
