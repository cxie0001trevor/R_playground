{
 "cells": [
  {
   "cell_type": "markdown",
   "metadata": {},
   "source": [
    "# Section A. Model Complexity and Model Selection\n",
    "## Question 1 [KNN Regressor, 20 Marks]\n",
    "\n",
    "Implement the KNN regressor function:\n",
    "\n",
    "- Step 1: Determine parameter K = number of nearest neighbors.\n",
    "- Step 2: Calculate the distance between the query-instance and all the\n",
    "training examples.\n",
    "- Step 3: Sort the distance and determine nearest neighbors.\n",
    "- Step 4: Gather the category Y of the nearest neighbors.\n",
    "- Step 5: Use the average of the neighbor's value as the prediction value of the query instance"
   ]
  },
  {
   "cell_type": "code",
   "execution_count": 2,
   "metadata": {
    "collapsed": true
   },
   "outputs": [],
   "source": [
    "import pandas as pd\n",
    "import matplotlib.pyplot as plt\n",
    "%matplotlib inline\n",
    "import numpy as np\n",
    "from scipy.spatial import distance"
   ]
  },
  {
   "cell_type": "markdown",
   "metadata": {},
   "source": [
    "### Load Training and Testing Sets"
   ]
  },
  {
   "cell_type": "code",
   "execution_count": 5,
   "metadata": {
    "collapsed": true
   },
   "outputs": [],
   "source": [
    "trainT1A = pd.read_table('assessments_datasets/Task1A_train.csv', sep=\",\")\n",
    "testT1A = pd.read_table('assessments_datasets/Task1A_test.csv', sep=\",\")"
   ]
  },
  {
   "cell_type": "markdown",
   "metadata": {},
   "source": [
    "### Q1-1 Define KNN regressor function"
   ]
  },
  {
   "cell_type": "code",
   "execution_count": 6,
   "metadata": {
    "collapsed": true
   },
   "outputs": [],
   "source": [
    "# define knn regressor function \n",
    "def KNN(train_data, train_label, test_data, K):\n",
    "    \n",
    "    # get data\n",
    "    trainData = train_data.ix[:,:-1]\n",
    "    trainLabel = train_label.ix[:,-1:]\n",
    "    testData = test_data.ix[:,:-1]\n",
    "    \n",
    "    dist = []\n",
    "    neighbors = []\n",
    "    distances = []\n",
    "    dists = []\n",
    "    avgList = []\n",
    "    result = []\n",
    "    result1 = []\n",
    "    y_list = []\n",
    "    y_list1 = []\n",
    "    \n",
    "    # calculus distance\n",
    "    for i in range(len(testData)):\n",
    "        dists = []\n",
    "        for j in range(len(trainData)):\n",
    "            #dist = []\n",
    "            dist = distance.euclidean(testData.iloc[i],trainData.iloc[j])\n",
    "            #dists.append((testData.iloc[i],trainData.iloc[j],trainLabel.iloc[j],dist))\n",
    "            dists.append(dist)\n",
    "        result.append(dists)\n",
    "       \n",
    "\n",
    "    index = np.argsort(np.array(result))\n",
    "\n",
    "    neighbors=[]\n",
    "    \n",
    "    # find neighbors\n",
    "    for i in range(len(index)):\n",
    "        neighbors.append(index[i][:K])\n",
    "\n",
    "    \n",
    "    # find y\n",
    "    for i in range(len(result)):\n",
    "        for k in range(K):\n",
    "            y = np.array(trainLabel)[neighbors[i][k]]\n",
    "            y_list.append(y)\n",
    "        y_list1.append(y_list) \n",
    "        y_list = []\n",
    "\n",
    "    #avg labels\n",
    "    for i in range(len(y_list1)):\n",
    "        avg = sum(y_list1[i])/float(len(y_list1[i]))\n",
    "        #print (avg)\n",
    "        avgList.append(avg)\n",
    "    #print (avgList)\n",
    "    return avgList"
   ]
  },
  {
   "cell_type": "markdown",
   "metadata": {},
   "source": [
    "### Implement the Knn regressor function, set k = 3"
   ]
  },
  {
   "cell_type": "code",
   "execution_count": 7,
   "metadata": {},
   "outputs": [
    {
     "name": "stderr",
     "output_type": "stream",
     "text": [
      "/Users/chengxinrui/anaconda/envs/ipykernel_py3/lib/python3.6/site-packages/ipykernel_launcher.py:5: DeprecationWarning: \n",
      ".ix is deprecated. Please use\n",
      ".loc for label based indexing or\n",
      ".iloc for positional indexing\n",
      "\n",
      "See the documentation here:\n",
      "http://pandas.pydata.org/pandas-docs/stable/indexing.html#ix-indexer-is-deprecated\n",
      "  \"\"\"\n",
      "/Users/chengxinrui/anaconda/envs/ipykernel_py3/lib/python3.6/site-packages/ipykernel_launcher.py:7: DeprecationWarning: \n",
      ".ix is deprecated. Please use\n",
      ".loc for label based indexing or\n",
      ".iloc for positional indexing\n",
      "\n",
      "See the documentation here:\n",
      "http://pandas.pydata.org/pandas-docs/stable/indexing.html#ix-indexer-is-deprecated\n",
      "  import sys\n"
     ]
    }
   ],
   "source": [
    "predict = KNN(trainT1A,trainT1A,testT1A, K = 3)"
   ]
  },
  {
   "cell_type": "code",
   "execution_count": 8,
   "metadata": {},
   "outputs": [
    {
     "name": "stdout",
     "output_type": "stream",
     "text": [
      "[array([0.72333333]), array([0.72333333]), array([0.79333333]), array([0.75]), array([0.85333333]), array([0.82333333]), array([0.91666667]), array([1.05333333]), array([1.05333333]), array([1.28333333]), array([1.29]), array([1.29]), array([1.52333333]), array([1.74]), array([1.63]), array([1.9]), array([2.01]), array([2.4]), array([2.4]), array([2.55]), array([3.36]), array([3.36]), array([4.26]), array([4.74]), array([5.16]), array([5.73]), array([5.73]), array([6.06]), array([6.51]), array([7.23]), array([7.23]), array([7.95]), array([8.52]), array([9.12]), array([10.32]), array([11.19]), array([12.69]), array([13.68]), array([15.03]), array([15.69]), array([15.69]), array([15.69])]\n"
     ]
    }
   ],
   "source": [
    "print(predict)"
   ]
  },
  {
   "cell_type": "markdown",
   "metadata": {},
   "source": [
    "### Q1-2  Plot the training and the testing errors versus 1/K "
   ]
  },
  {
   "cell_type": "code",
   "execution_count": 10,
   "metadata": {
    "collapsed": true
   },
   "outputs": [],
   "source": [
    "# define mean squre error\n",
    "def Mse(predict_label,train_label):\n",
    "    error=0\n",
    "    for i in range(len(predict_label)):\n",
    "        error += (predict_label[i] - train_label.iloc[i].tolist())**2\n",
    "        MSE = np.sqrt(error/len(predict_label))\n",
    "    return MSE"
   ]
  },
  {
   "cell_type": "markdown",
   "metadata": {},
   "source": [
    "#### Test Knn and Mse function,  when k=1,  the train error will equal to zero, because train data set use knn to predict itself."
   ]
  },
  {
   "cell_type": "code",
   "execution_count": 20,
   "metadata": {},
   "outputs": [
    {
     "data": {
      "text/plain": [
       "array([0.])"
      ]
     },
     "execution_count": 20,
     "metadata": {},
     "output_type": "execute_result"
    }
   ],
   "source": [
    "# train - train\n",
    "# test Knn and Mse function, \n",
    "y_actual = trainT1A.ix[:,-1:]\n",
    "y_predicted = KNN(trainT1A,trainT1A,trainT1A, K = 1)\n",
    "rmse_val = Mse(y_predicted, y_actual)\n",
    "rmse_val"
   ]
  },
  {
   "cell_type": "code",
   "execution_count": 28,
   "metadata": {},
   "outputs": [
    {
     "name": "stdout",
     "output_type": "stream",
     "text": [
      "training_error [array([0.]), array([0.34393383]), array([0.31038847]), array([0.37144425]), array([0.39776818]), array([0.55555105]), array([0.66457257]), array([0.85082554]), array([0.94749791]), array([1.09837113]), array([1.2087154]), array([1.34743101]), array([1.45093158]), array([1.57054062]), array([1.65897583]), array([1.76194611]), array([1.86416783]), array([1.95388618]), array([2.05854375]), array([2.15522257])]\n"
     ]
    }
   ],
   "source": [
    "# training error\n",
    "y_predicted = []\n",
    "y_actual = trainT1A.ix[:,-1:]\n",
    "training_error = []\n",
    "\n",
    "for k in range(1,21):\n",
    "    #result = []\n",
    "    y_predicted = KNN(trainT1A,trainT1A,trainT1A, K = k)\n",
    "    rmse_val = Mse(y_predicted, y_actual)\n",
    "    training_error.append(rmse_val)\n",
    "    \n",
    "print ('training_error',training_error)"
   ]
  },
  {
   "cell_type": "code",
   "execution_count": 29,
   "metadata": {},
   "outputs": [
    {
     "name": "stdout",
     "output_type": "stream",
     "text": [
      "testing_error [array([1.67247464]), array([1.45831095]), array([1.52727539]), array([1.3611987]), array([1.39806301]), array([1.21365457]), array([1.20436788]), array([1.08478175]), array([1.1211267]), array([1.02276361]), array([1.07657027]), array([1.05316653]), array([1.08070505]), array([1.130928]), array([1.17494908]), array([1.23916966]), array([1.26118044]), array([1.35855869]), array([1.42288653]), array([1.50896149])]\n"
     ]
    }
   ],
   "source": [
    "# testing error\n",
    "y_predicted = []\n",
    "y_actual = testT1A.ix[:,-1:]\n",
    "testing_error = []\n",
    "\n",
    "for k in range(1,21):\n",
    "    #result = []\n",
    "    y_predicted = KNN(trainT1A,trainT1A,testT1A, K = k)\n",
    "    rmse_val = Mse(y_predicted, y_actual)\n",
    "    testing_error.append(rmse_val)\n",
    "    \n",
    "print ('testing_error',testing_error)"
   ]
  },
  {
   "cell_type": "code",
   "execution_count": 33,
   "metadata": {},
   "outputs": [
    {
     "data": {
      "image/png": "[encoded data removed]",
      "text/plain": [
       "<Figure size 720x432 with 1 Axes>"
      ]
     },
     "metadata": {},
     "output_type": "display_data"
    }
   ],
   "source": [
    "#draw plot\n",
    "\n",
    "x = []\n",
    "for i in range(1,21):\n",
    "    x.append(1/i)\n",
    "    \n",
    "y1 = training_error\n",
    "x1 = x\n",
    "\n",
    "y2 = testing_error\n",
    "x2 = x\n",
    "\n",
    "\n",
    "plt.figure(figsize=(10, 6))\n",
    "plt.plot(x1,y1,'',label=\"training_error\")\n",
    "plt.plot(x2,y2,'',label=\"testing_error \")\n",
    "\n",
    "plt.title('Train and Test Error in KNN regressor')\n",
    "plt.legend(loc='upper right')\n",
    "plt.xlabel('1/K')\n",
    "plt.ylabel('Error')\n",
    "plt.grid(x1)\n",
    "plt.show()"
   ]
  },
  {
   "cell_type": "markdown",
   "metadata": {
    "collapsed": true
   },
   "source": [
    "### Q1-3 Report the optimum value for K in terms of the testing error. Discuss the values of K corresponding to underfitting and overfitting based on your plot in the previous part (Part II)."
   ]
  },
  {
   "cell_type": "markdown",
   "metadata": {
    "collapsed": true
   },
   "source": [
    " - The optimum value for K : k =2\n",
    "\n",
    "For the various values of 1/K, The test set error is a measure of how well we are doing in predicting the values of y for new data observations of x. We note from 'Train and Test Error in KNN regressor' Plot that small values of 1/K (in the range 0-0.1) give relatively large values of the test set error, and this can be attributed to the fact that the corresponding polynomials are rather inflexible and are incapable of capturing the oscillations in the\n",
    "function Knn(i.e. under-fitting). Values of 1/K = 0.1 (K=2) give the small values for the test set error, and these also give reasonable representations of the generating function Knn.  For 1/K = 1, the training set error goes to zero; however, the test set error has become very large (i.e. over-fitting). As we saw in Plot, the corresponding function exhibits wild oscillations."
   ]
  },
  {
   "cell_type": "code",
   "execution_count": null,
   "metadata": {
    "collapsed": true
   },
   "outputs": [],
   "source": []
  }
 ],
 "metadata": {
  "kernelspec": {
   "display_name": "Python 3",
   "language": "python",
   "name": "python3"
  },
  "language_info": {
   "codemirror_mode": {
    "name": "ipython",
    "version": 3
   },
   "file_extension": ".py",
   "mimetype": "text/x-python",
   "name": "python",
   "nbconvert_exporter": "python",
   "pygments_lexer": "ipython3",
   "version": "3.6.4"
  }
 },
 "nbformat": 4,
 "nbformat_minor": 2
}
